{
 "cells": [
  {
   "cell_type": "markdown",
   "metadata": {},
   "source": [
    "# DATA TYPES\n",
    "1. Fundamental Data Types\n",
    "2. Collection Data Types"
   ]
  },
  {
   "cell_type": "markdown",
   "metadata": {},
   "source": [
    "# FUNDAMENTAL DATA TYPES\n",
    "1. int\n",
    " 2. float\n",
    " 3. complex\n",
    " 4. boolean\n",
    " 5. string"
   ]
  },
  {
   "cell_type": "code",
   "execution_count": null,
   "metadata": {},
   "outputs": [],
   "source": []
  },
  {
   "cell_type": "code",
   "execution_count": 2,
   "metadata": {},
   "outputs": [
    {
     "name": "stdout",
     "output_type": "stream",
     "text": [
      "<class 'int'> <class 'float'> <class 'complex'> <class 'bool'> <class 'str'> <class 'str'>\n"
     ]
    }
   ],
   "source": [
    "x = 10\n",
    "y = 20.45\n",
    "z = 4+5j\n",
    "a = True\n",
    "s = \"string1\"\n",
    "s1 = \"string2\"\n",
    "print(type(x),type(y),type(z),type(a),type(s),type(s1))\n"
   ]
  },
  {
   "cell_type": "code",
   "execution_count": 4,
   "metadata": {},
   "outputs": [
    {
     "name": "stdout",
     "output_type": "stream",
     "text": [
      "string1\n",
      "g\n",
      "1\n",
      "1\n",
      "ring\n",
      "srn1\n",
      "1gnirts\n"
     ]
    }
   ],
   "source": [
    "print(s)\n",
    "print(s[5])\n",
    "print(s[6])\n",
    "print(s[-1])\n",
    "print(s[2:6])\n",
    "print(s[::2])\n",
    "print(s[::-1])"
   ]
  },
  {
   "cell_type": "code",
   "execution_count": 10,
   "metadata": {},
   "outputs": [
    {
     "name": "stdout",
     "output_type": "stream",
     "text": [
      "enter the stringmalayalam\n",
      "True\n"
     ]
    }
   ],
   "source": [
    "st = input(\"enter the string\")\n",
    "print(st==st[::-1])\n",
    " \n"
   ]
  },
  {
   "cell_type": "code",
   "execution_count": 20,
   "metadata": {},
   "outputs": [
    {
     "name": "stdout",
     "output_type": "stream",
     "text": [
      "7\n",
      "2\n",
      "t\n",
      "10\n",
      "10\n",
      "<class 'str'>\n"
     ]
    }
   ],
   "source": [
    "#built-in functions\n",
    "x = 10\n",
    "y = str(10)\n",
    "print(len(s1))#length os chaeacters in the string\n",
    "print(min(s1))\n",
    "print(max(s1))\n",
    "print(str(x))\n",
    "print(y)\n",
    "print(type(y))\n"
   ]
  },
  {
   "cell_type": "code",
   "execution_count": null,
   "metadata": {},
   "outputs": [],
   "source": [
    "#string built-in methods\n",
    "isdigit()#  \"                        \" IS NUMERIC OR NOT AND RETURNS TRUE OR FALSE\n",
    "isalpha()#CHECKS AND RETURNS WHETHER THE GIVEN STRING IS ALPHABET OR NOT\n",
    "isalnum()# \"      \"     \"       \"                   CPMBINATION OF ALPHABET OR NUMBER\n",
    "isupper()#CHECKS AND RETURNS WHETHER THE GIVEN STRING IS completely upper case if upper returns true\n",
    "upper() #converts into upper case\n",
    "islower()#CHECKS AND RETURNS WHETHER THE GIVEN STRING IS completely lower case if lower returns true\n",
    "lower()#converts into lower case and prints \n",
    "capitalize() #make first letter capital"
   ]
  },
  {
   "cell_type": "code",
   "execution_count": 35,
   "metadata": {},
   "outputs": [
    {
     "name": "stdout",
     "output_type": "stream",
     "text": [
      "False\n",
      "True\n",
      "False\n",
      "Vamshi123\n"
     ]
    }
   ],
   "source": [
    "#string built-in methods\n",
    "s2=\"vamshi123\"\n",
    "print(s2.isalpha())#CHECKS AND RETURNS WHETHER THE GIVEN STRING IS ALPHABET OR NOT\n",
    "print(s2.isalnum())# \"      \"     \"       \"                   CPMBINATION OF ALPHABET OR NUMBER\n",
    "print(s2.isdigit())#  \"                        \" IS NUMERIC OR NOT AND RETURNS TRUE OR FALSE\n",
    "print(s2.capitalize())\n"
   ]
  },
  {
   "cell_type": "code",
   "execution_count": 22,
   "metadata": {},
   "outputs": [
    {
     "name": "stdout",
     "output_type": "stream",
     "text": [
      "False\n"
     ]
    }
   ],
   "source": [
    "s22 = \"ABS123 ABC123\"\n",
    "print(s22.isalpha()) #no space should be there between letters in order to accept it as alnum=\"combination of letters and numerics\" "
   ]
  },
  {
   "cell_type": "code",
   "execution_count": 33,
   "metadata": {},
   "outputs": [
    {
     "name": "stdout",
     "output_type": "stream",
     "text": [
      "string2\n",
      "STRING2\n"
     ]
    }
   ],
   "source": [
    "print(s1)\n",
    "s1 = s1.upper()\n",
    "print(s1)\n",
    "#print(s1.lower())\n",
    "#print(s1)"
   ]
  },
  {
   "cell_type": "code",
   "execution_count": 38,
   "metadata": {},
   "outputs": [
    {
     "name": "stdout",
     "output_type": "stream",
     "text": [
      "abc123 bgt\n",
      "000123 bgt\n"
     ]
    }
   ],
   "source": [
    "s4 = \"abc123 bgt\"\n",
    "print(s4)\n",
    "s4 = s4.replace(\"abc\",\"000\")\n",
    "print(s4)"
   ]
  },
  {
   "cell_type": "code",
   "execution_count": 11,
   "metadata": {},
   "outputs": [
    {
     "data": {
      "text/plain": [
       "65"
      ]
     },
     "execution_count": 11,
     "metadata": {},
     "output_type": "execute_result"
    }
   ],
   "source": [
    "ord('A')  # ascii value\n"
   ]
  },
  {
   "cell_type": "code",
   "execution_count": 12,
   "metadata": {},
   "outputs": [
    {
     "data": {
      "text/plain": [
       "49"
      ]
     },
     "execution_count": 12,
     "metadata": {},
     "output_type": "execute_result"
    }
   ],
   "source": [
    "ord('1')"
   ]
  },
  {
   "cell_type": "code",
   "execution_count": 15,
   "metadata": {},
   "outputs": [
    {
     "data": {
      "text/plain": [
       "'A'"
      ]
     },
     "execution_count": 15,
     "metadata": {},
     "output_type": "execute_result"
    }
   ],
   "source": [
    "chr(65) # prints asci holding alphabet or numeris or symbols"
   ]
  },
  {
   "cell_type": "code",
   "execution_count": null,
   "metadata": {},
   "outputs": [],
   "source": []
  }
 ],
 "metadata": {
  "kernelspec": {
   "display_name": "Python 3",
   "language": "python",
   "name": "python3"
  },
  "language_info": {
   "codemirror_mode": {
    "name": "ipython",
    "version": 3
   },
   "file_extension": ".py",
   "mimetype": "text/x-python",
   "name": "python",
   "nbconvert_exporter": "python",
   "pygments_lexer": "ipython3",
   "version": "3.7.4"
  }
 },
 "nbformat": 4,
 "nbformat_minor": 2
}
